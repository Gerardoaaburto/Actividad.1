{
 "cells": [
  {
   "cell_type": "code",
   "execution_count": 1,
   "metadata": {},
   "outputs": [],
   "source": [
    "import pandas as pd\n",
    "import numpy as np"
   ]
  },
  {
   "cell_type": "code",
   "execution_count": null,
   "metadata": {},
   "outputs": [],
   "source": [
    "df = pd.read_csv('Exportaciones.csv') \n",
    "df.info()\n",
    "df"
   ]
  },
  {
   "cell_type": "code",
   "execution_count": null,
   "metadata": {},
   "outputs": [],
   "source": [
    "filtro1=df[df[\"iso3\"]==\"alb\"] \n",
    "#filtro1\n",
    "filtro2=df[df[\"h_insurance\"] >0.5]\n",
    "#filtro2\n",
    "filtrof=df[(df[\"h_insurance\"] > 0.5) & (df[\"iso3\"] == \"alb\")]\n",
    "#filtrof=df[(filtro1) & (filtro2)]\n",
    "filtrof\n",
    "##filtrof.to_csv(\"Filtroa\")"
   ]
  },
  {
   "cell_type": "code",
   "execution_count": null,
   "metadata": {},
   "outputs": [],
   "source": [
    "#filtrofr=df[df[\"sector_Gmatrix\"]==\"insurance\"] \n",
    "#filtrofo=df[df[\"g_procfoods\"] >7]\n",
    "filtrob=df[(df[\"g_procfoods\"] > 7) & (df[\"sector_GMatrix\"] == \"insurance\")]\n",
    "filtrob\n",
    "#filtro4.to_csv(\"Filtrob.csv\")"
   ]
  }
 ],
 "metadata": {
  "kernelspec": {
   "display_name": "Python 3.10.6 64-bit",
   "language": "python",
   "name": "python3"
  },
  "language_info": {
   "codemirror_mode": {
    "name": "ipython",
    "version": 3
   },
   "file_extension": ".py",
   "mimetype": "text/x-python",
   "name": "python",
   "nbconvert_exporter": "python",
   "pygments_lexer": "ipython3",
   "version": "3.10.6"
  },
  "orig_nbformat": 4,
  "vscode": {
   "interpreter": {
    "hash": "aee8b7b246df8f9039afb4144a1f6fd8d2ca17a180786b69acc140d282b71a49"
   }
  }
 },
 "nbformat": 4,
 "nbformat_minor": 2
}
